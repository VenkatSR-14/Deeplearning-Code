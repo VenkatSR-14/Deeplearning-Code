{
  "nbformat": 4,
  "nbformat_minor": 0,
  "metadata": {
    "colab": {
      "provenance": [],
      "machine_shape": "hm",
      "gpuType": "T4",
      "authorship_tag": "ABX9TyP1BugRzm//cpdGnoPmoIsF",
      "include_colab_link": true
    },
    "kernelspec": {
      "name": "python3",
      "display_name": "Python 3"
    },
    "language_info": {
      "name": "python"
    },
    "accelerator": "GPU"
  },
  "cells": [
    {
      "cell_type": "markdown",
      "metadata": {
        "id": "view-in-github",
        "colab_type": "text"
      },
      "source": [
        "<a href=\"https://colab.research.google.com/github/VenkatSR-14/Deeplearning-Code/blob/main/imdb_dataset.ipynb\" target=\"_parent\"><img src=\"https://colab.research.google.com/assets/colab-badge.svg\" alt=\"Open In Colab\"/></a>"
      ]
    },
    {
      "cell_type": "markdown",
      "source": [
        "IMDB is an online database of information related to films, tv, series, etc. This dataset contains reviews that divided into positive and negative reviews. So, in this project we will do sentiment analysis where we asked to classify whether a review is tend to positive or negative.\n",
        "\n",
        "Dataset Source: Kaggle\n",
        "\n",
        "\n",
        "Review\n",
        "Sentiment"
      ],
      "metadata": {
        "id": "Zd67icaXRPgQ"
      }
    },
    {
      "cell_type": "code",
      "source": [
        "# import libraries\n",
        "\n",
        "# data manipulation\n",
        "import pandas as pd\n",
        "import numpy as np\n",
        "\n",
        "# data visualization\n",
        "import matplotlib.pyplot as plt\n",
        "import seaborn as sns\n",
        "\n",
        "# text processing\n",
        "import re\n",
        "import nltk\n",
        "from nltk.tokenize import word_tokenize, sent_tokenize\n",
        "from nltk.corpus import stopwords\n",
        "from nltk.stem.wordnet import WordNetLemmatizer\n",
        "nltk.download('stopwords')\n",
        "nltk.download('wordnet')\n",
        "stopwords = set(stopwords.words('english'))\n",
        "\n",
        "# pytorch\n",
        "import torch\n",
        "from torch import nn\n",
        "from torch.optim import Adam\n",
        "from torch.utils.data import TensorDataset, DataLoader\n",
        "\n",
        "# sklearn\n",
        "from sklearn.metrics import classification_report, confusion_matrix\n",
        "\n",
        "# utils\n",
        "import os\n",
        "from tqdm import tqdm\n",
        "tqdm.pandas()\n",
        "from collections import Counter"
      ],
      "metadata": {
        "colab": {
          "base_uri": "https://localhost:8080/"
        },
        "id": "x4eJVaabDrKE",
        "outputId": "d2e2c6e5-c0b4-4acb-b85f-66749c0ed31d"
      },
      "execution_count": 1,
      "outputs": [
        {
          "output_type": "stream",
          "name": "stderr",
          "text": [
            "[nltk_data] Downloading package stopwords to /root/nltk_data...\n",
            "[nltk_data]   Unzipping corpora/stopwords.zip.\n",
            "[nltk_data] Downloading package wordnet to /root/nltk_data...\n"
          ]
        }
      ]
    },
    {
      "cell_type": "code",
      "source": [
        "# read data\n",
        "data = pd.read_csv('/content/IMDB Dataset.csv')\n",
        "data.head()\n",
        "data['token_length'] = data.review.progress_apply(lambda x: len(x.split()))\n",
        "def transform_label(label):\n",
        "    return 1 if label == 'positive' else 0\n",
        "\n",
        "data['label'] = data['sentiment'].progress_apply(transform_label)\n",
        "data.head()"
      ],
      "metadata": {
        "colab": {
          "base_uri": "https://localhost:8080/",
          "height": 241
        },
        "id": "GbHejP34D5Yz",
        "outputId": "58262831-92b9-47f2-a793-43c50e63401a"
      },
      "execution_count": 2,
      "outputs": [
        {
          "output_type": "stream",
          "name": "stderr",
          "text": [
            "100%|██████████| 50000/50000 [00:00<00:00, 70276.43it/s]\n",
            "100%|██████████| 50000/50000 [00:00<00:00, 825897.51it/s]\n"
          ]
        },
        {
          "output_type": "execute_result",
          "data": {
            "text/plain": [
              "                                              review sentiment  token_length  \\\n",
              "0  One of the other reviewers has mentioned that ...  positive           307   \n",
              "1  A wonderful little production. <br /><br />The...  positive           162   \n",
              "2  I thought this was a wonderful way to spend ti...  positive           166   \n",
              "3  Basically there's a family where a little boy ...  negative           138   \n",
              "4  Petter Mattei's \"Love in the Time of Money\" is...  positive           230   \n",
              "\n",
              "   label  \n",
              "0      1  \n",
              "1      1  \n",
              "2      1  \n",
              "3      0  \n",
              "4      1  "
            ],
            "text/html": [
              "\n",
              "  <div id=\"df-45d3c67a-0770-4e80-9fd3-689e60b2340c\" class=\"colab-df-container\">\n",
              "    <div>\n",
              "<style scoped>\n",
              "    .dataframe tbody tr th:only-of-type {\n",
              "        vertical-align: middle;\n",
              "    }\n",
              "\n",
              "    .dataframe tbody tr th {\n",
              "        vertical-align: top;\n",
              "    }\n",
              "\n",
              "    .dataframe thead th {\n",
              "        text-align: right;\n",
              "    }\n",
              "</style>\n",
              "<table border=\"1\" class=\"dataframe\">\n",
              "  <thead>\n",
              "    <tr style=\"text-align: right;\">\n",
              "      <th></th>\n",
              "      <th>review</th>\n",
              "      <th>sentiment</th>\n",
              "      <th>token_length</th>\n",
              "      <th>label</th>\n",
              "    </tr>\n",
              "  </thead>\n",
              "  <tbody>\n",
              "    <tr>\n",
              "      <th>0</th>\n",
              "      <td>One of the other reviewers has mentioned that ...</td>\n",
              "      <td>positive</td>\n",
              "      <td>307</td>\n",
              "      <td>1</td>\n",
              "    </tr>\n",
              "    <tr>\n",
              "      <th>1</th>\n",
              "      <td>A wonderful little production. &lt;br /&gt;&lt;br /&gt;The...</td>\n",
              "      <td>positive</td>\n",
              "      <td>162</td>\n",
              "      <td>1</td>\n",
              "    </tr>\n",
              "    <tr>\n",
              "      <th>2</th>\n",
              "      <td>I thought this was a wonderful way to spend ti...</td>\n",
              "      <td>positive</td>\n",
              "      <td>166</td>\n",
              "      <td>1</td>\n",
              "    </tr>\n",
              "    <tr>\n",
              "      <th>3</th>\n",
              "      <td>Basically there's a family where a little boy ...</td>\n",
              "      <td>negative</td>\n",
              "      <td>138</td>\n",
              "      <td>0</td>\n",
              "    </tr>\n",
              "    <tr>\n",
              "      <th>4</th>\n",
              "      <td>Petter Mattei's \"Love in the Time of Money\" is...</td>\n",
              "      <td>positive</td>\n",
              "      <td>230</td>\n",
              "      <td>1</td>\n",
              "    </tr>\n",
              "  </tbody>\n",
              "</table>\n",
              "</div>\n",
              "    <div class=\"colab-df-buttons\">\n",
              "\n",
              "  <div class=\"colab-df-container\">\n",
              "    <button class=\"colab-df-convert\" onclick=\"convertToInteractive('df-45d3c67a-0770-4e80-9fd3-689e60b2340c')\"\n",
              "            title=\"Convert this dataframe to an interactive table.\"\n",
              "            style=\"display:none;\">\n",
              "\n",
              "  <svg xmlns=\"http://www.w3.org/2000/svg\" height=\"24px\" viewBox=\"0 -960 960 960\">\n",
              "    <path d=\"M120-120v-720h720v720H120Zm60-500h600v-160H180v160Zm220 220h160v-160H400v160Zm0 220h160v-160H400v160ZM180-400h160v-160H180v160Zm440 0h160v-160H620v160ZM180-180h160v-160H180v160Zm440 0h160v-160H620v160Z\"/>\n",
              "  </svg>\n",
              "    </button>\n",
              "\n",
              "  <style>\n",
              "    .colab-df-container {\n",
              "      display:flex;\n",
              "      gap: 12px;\n",
              "    }\n",
              "\n",
              "    .colab-df-convert {\n",
              "      background-color: #E8F0FE;\n",
              "      border: none;\n",
              "      border-radius: 50%;\n",
              "      cursor: pointer;\n",
              "      display: none;\n",
              "      fill: #1967D2;\n",
              "      height: 32px;\n",
              "      padding: 0 0 0 0;\n",
              "      width: 32px;\n",
              "    }\n",
              "\n",
              "    .colab-df-convert:hover {\n",
              "      background-color: #E2EBFA;\n",
              "      box-shadow: 0px 1px 2px rgba(60, 64, 67, 0.3), 0px 1px 3px 1px rgba(60, 64, 67, 0.15);\n",
              "      fill: #174EA6;\n",
              "    }\n",
              "\n",
              "    .colab-df-buttons div {\n",
              "      margin-bottom: 4px;\n",
              "    }\n",
              "\n",
              "    [theme=dark] .colab-df-convert {\n",
              "      background-color: #3B4455;\n",
              "      fill: #D2E3FC;\n",
              "    }\n",
              "\n",
              "    [theme=dark] .colab-df-convert:hover {\n",
              "      background-color: #434B5C;\n",
              "      box-shadow: 0px 1px 3px 1px rgba(0, 0, 0, 0.15);\n",
              "      filter: drop-shadow(0px 1px 2px rgba(0, 0, 0, 0.3));\n",
              "      fill: #FFFFFF;\n",
              "    }\n",
              "  </style>\n",
              "\n",
              "    <script>\n",
              "      const buttonEl =\n",
              "        document.querySelector('#df-45d3c67a-0770-4e80-9fd3-689e60b2340c button.colab-df-convert');\n",
              "      buttonEl.style.display =\n",
              "        google.colab.kernel.accessAllowed ? 'block' : 'none';\n",
              "\n",
              "      async function convertToInteractive(key) {\n",
              "        const element = document.querySelector('#df-45d3c67a-0770-4e80-9fd3-689e60b2340c');\n",
              "        const dataTable =\n",
              "          await google.colab.kernel.invokeFunction('convertToInteractive',\n",
              "                                                    [key], {});\n",
              "        if (!dataTable) return;\n",
              "\n",
              "        const docLinkHtml = 'Like what you see? Visit the ' +\n",
              "          '<a target=\"_blank\" href=https://colab.research.google.com/notebooks/data_table.ipynb>data table notebook</a>'\n",
              "          + ' to learn more about interactive tables.';\n",
              "        element.innerHTML = '';\n",
              "        dataTable['output_type'] = 'display_data';\n",
              "        await google.colab.output.renderOutput(dataTable, element);\n",
              "        const docLink = document.createElement('div');\n",
              "        docLink.innerHTML = docLinkHtml;\n",
              "        element.appendChild(docLink);\n",
              "      }\n",
              "    </script>\n",
              "  </div>\n",
              "\n",
              "\n",
              "<div id=\"df-cc58bcec-4d00-486d-bead-3647626d63fa\">\n",
              "  <button class=\"colab-df-quickchart\" onclick=\"quickchart('df-cc58bcec-4d00-486d-bead-3647626d63fa')\"\n",
              "            title=\"Suggest charts\"\n",
              "            style=\"display:none;\">\n",
              "\n",
              "<svg xmlns=\"http://www.w3.org/2000/svg\" height=\"24px\"viewBox=\"0 0 24 24\"\n",
              "     width=\"24px\">\n",
              "    <g>\n",
              "        <path d=\"M19 3H5c-1.1 0-2 .9-2 2v14c0 1.1.9 2 2 2h14c1.1 0 2-.9 2-2V5c0-1.1-.9-2-2-2zM9 17H7v-7h2v7zm4 0h-2V7h2v10zm4 0h-2v-4h2v4z\"/>\n",
              "    </g>\n",
              "</svg>\n",
              "  </button>\n",
              "\n",
              "<style>\n",
              "  .colab-df-quickchart {\n",
              "      --bg-color: #E8F0FE;\n",
              "      --fill-color: #1967D2;\n",
              "      --hover-bg-color: #E2EBFA;\n",
              "      --hover-fill-color: #174EA6;\n",
              "      --disabled-fill-color: #AAA;\n",
              "      --disabled-bg-color: #DDD;\n",
              "  }\n",
              "\n",
              "  [theme=dark] .colab-df-quickchart {\n",
              "      --bg-color: #3B4455;\n",
              "      --fill-color: #D2E3FC;\n",
              "      --hover-bg-color: #434B5C;\n",
              "      --hover-fill-color: #FFFFFF;\n",
              "      --disabled-bg-color: #3B4455;\n",
              "      --disabled-fill-color: #666;\n",
              "  }\n",
              "\n",
              "  .colab-df-quickchart {\n",
              "    background-color: var(--bg-color);\n",
              "    border: none;\n",
              "    border-radius: 50%;\n",
              "    cursor: pointer;\n",
              "    display: none;\n",
              "    fill: var(--fill-color);\n",
              "    height: 32px;\n",
              "    padding: 0;\n",
              "    width: 32px;\n",
              "  }\n",
              "\n",
              "  .colab-df-quickchart:hover {\n",
              "    background-color: var(--hover-bg-color);\n",
              "    box-shadow: 0 1px 2px rgba(60, 64, 67, 0.3), 0 1px 3px 1px rgba(60, 64, 67, 0.15);\n",
              "    fill: var(--button-hover-fill-color);\n",
              "  }\n",
              "\n",
              "  .colab-df-quickchart-complete:disabled,\n",
              "  .colab-df-quickchart-complete:disabled:hover {\n",
              "    background-color: var(--disabled-bg-color);\n",
              "    fill: var(--disabled-fill-color);\n",
              "    box-shadow: none;\n",
              "  }\n",
              "\n",
              "  .colab-df-spinner {\n",
              "    border: 2px solid var(--fill-color);\n",
              "    border-color: transparent;\n",
              "    border-bottom-color: var(--fill-color);\n",
              "    animation:\n",
              "      spin 1s steps(1) infinite;\n",
              "  }\n",
              "\n",
              "  @keyframes spin {\n",
              "    0% {\n",
              "      border-color: transparent;\n",
              "      border-bottom-color: var(--fill-color);\n",
              "      border-left-color: var(--fill-color);\n",
              "    }\n",
              "    20% {\n",
              "      border-color: transparent;\n",
              "      border-left-color: var(--fill-color);\n",
              "      border-top-color: var(--fill-color);\n",
              "    }\n",
              "    30% {\n",
              "      border-color: transparent;\n",
              "      border-left-color: var(--fill-color);\n",
              "      border-top-color: var(--fill-color);\n",
              "      border-right-color: var(--fill-color);\n",
              "    }\n",
              "    40% {\n",
              "      border-color: transparent;\n",
              "      border-right-color: var(--fill-color);\n",
              "      border-top-color: var(--fill-color);\n",
              "    }\n",
              "    60% {\n",
              "      border-color: transparent;\n",
              "      border-right-color: var(--fill-color);\n",
              "    }\n",
              "    80% {\n",
              "      border-color: transparent;\n",
              "      border-right-color: var(--fill-color);\n",
              "      border-bottom-color: var(--fill-color);\n",
              "    }\n",
              "    90% {\n",
              "      border-color: transparent;\n",
              "      border-bottom-color: var(--fill-color);\n",
              "    }\n",
              "  }\n",
              "</style>\n",
              "\n",
              "  <script>\n",
              "    async function quickchart(key) {\n",
              "      const quickchartButtonEl =\n",
              "        document.querySelector('#' + key + ' button');\n",
              "      quickchartButtonEl.disabled = true;  // To prevent multiple clicks.\n",
              "      quickchartButtonEl.classList.add('colab-df-spinner');\n",
              "      try {\n",
              "        const charts = await google.colab.kernel.invokeFunction(\n",
              "            'suggestCharts', [key], {});\n",
              "      } catch (error) {\n",
              "        console.error('Error during call to suggestCharts:', error);\n",
              "      }\n",
              "      quickchartButtonEl.classList.remove('colab-df-spinner');\n",
              "      quickchartButtonEl.classList.add('colab-df-quickchart-complete');\n",
              "    }\n",
              "    (() => {\n",
              "      let quickchartButtonEl =\n",
              "        document.querySelector('#df-cc58bcec-4d00-486d-bead-3647626d63fa button');\n",
              "      quickchartButtonEl.style.display =\n",
              "        google.colab.kernel.accessAllowed ? 'block' : 'none';\n",
              "    })();\n",
              "  </script>\n",
              "</div>\n",
              "\n",
              "    </div>\n",
              "  </div>\n"
            ],
            "application/vnd.google.colaboratory.intrinsic+json": {
              "type": "dataframe",
              "variable_name": "data",
              "summary": "{\n  \"name\": \"data\",\n  \"rows\": 50000,\n  \"fields\": [\n    {\n      \"column\": \"review\",\n      \"properties\": {\n        \"dtype\": \"string\",\n        \"num_unique_values\": 49582,\n        \"samples\": [\n          \"\\\"Soul Plane\\\" is a horrible attempt at comedy that only should appeal people with thick skulls, bloodshot eyes and furry pawns. <br /><br />The plot is not only incoherent but also non-existent, acting is mostly sub sub-par with a gang of highly moronic and dreadful characters thrown in for bad measure, jokes are often spotted miles ahead and almost never even a bit amusing. This movie lacks any structure and is full of racial stereotypes that must have seemed old even in the fifties, the only thing it really has going for it is some pretty ladies, but really, if you want that you can rent something from the \\\"Adult\\\" section. OK?<br /><br />I can hardly see anything here to recommend since you'll probably have a lot a better and productive time chasing rats with a sledgehammer or inventing waterproof teabags or whatever.<br /><br />2/10\",\n          \"Guest from the Future tells a fascinating story of time travel, friendship, battle of good and evil -- all with a small budget, child actors, and few special effects. Something for Spielberg and Lucas to learn from. ;) A sixth-grader Kolya \\\"Nick\\\" Gerasimov finds a time machine in the basement of a decrepit building and travels 100 years into the future. He discovers a near-perfect, utopian society where robots play guitars and write poetry, everyone is kind to each other and people enjoy everything technology has to offer. Alice is the daughter of a prominent scientist who invented a device called Mielophone that allows to read minds of humans and animals. The device can be put to both good and bad use, depending on whose hands it falls into. When two evil space pirates from Saturn who want to rule the universe attempt to steal Mielophone, it falls into the hands of 20th century school boy Nick. With the pirates hot on his tracks, he travels back to his time, followed by the pirates, and Alice. Chaos, confusion and funny situations follow as the luckless pirates try to blend in with the earthlings. Alice enrolls in the same school Nick goes to and demonstrates superhuman abilities in PE class. The catch is, Alice doesn't know what Nick looks like, while the pirates do. Also, the pirates are able to change their appearance and turn literally into anyone. (Hmm, I wonder if this is where James Cameron got the idea for Terminator...) Who gets to Nick -- and Mielophone -- first? Excellent plot, non-stop adventures, and great soundtrack. I wish Hollywood made kid movies like this one...\",\n          \"\\\"National Treasure\\\" (2004) is a thoroughly misguided hodge-podge of plot entanglements that borrow from nearly every cloak and dagger government conspiracy clich\\u00e9 that has ever been written. The film stars Nicholas Cage as Benjamin Franklin Gates (how precious is that, I ask you?); a seemingly normal fellow who, for no other reason than being of a lineage of like-minded misguided fortune hunters, decides to steal a 'national treasure' that has been hidden by the United States founding fathers. After a bit of subtext and background that plays laughably (unintentionally) like Indiana Jones meets The Patriot, the film degenerates into one misguided whimsy after another \\u0096 attempting to create a 'Stanley Goodspeed' regurgitation of Nicholas Cage and launch the whole convoluted mess forward with a series of high octane, but disconnected misadventures.<br /><br />The relevancy and logic to having George Washington and his motley crew of patriots burying a king's ransom someplace on native soil, and then, going through the meticulous plan of leaving clues scattered throughout U.S. currency art work, is something that director Jon Turteltaub never quite gets around to explaining. Couldn't Washington found better usage for such wealth during the start up of the country? Hence, we are left with a mystery built on top of an enigma that is already on shaky ground by the time Ben appoints himself the new custodian of this untold wealth. Ben's intentions are noble \\u0096 if confusing. He's set on protecting the treasure. For who and when?\\u0085your guess is as good as mine.<br /><br />But there are a few problems with Ben's crusade. First up, his friend, Ian Holmes (Sean Bean) decides that he can't wait for Ben to make up his mind about stealing the Declaration of Independence from the National Archives (oh, yeah \\u0096 brilliant idea!). Presumably, the back of that famous document holds the secret answer to the ultimate fortune. So Ian tries to kill Ben. The assassination attempt is, of course, unsuccessful, if overly melodramatic. It also affords Ben the opportunity to pick up, and pick on, the very sultry curator of the archives, Abigail Chase (Diane Kruger). She thinks Ben is clearly a nut \\u0096 at least at the beginning. But true to action/romance form, Abby's resolve melts quicker than you can say, \\\"is that the Hope Diamond?\\\" The film moves into full X-File-ish mode, as the FBI, mistakenly believing that Ben is behind the theft, retaliate in various benign ways that lead to a multi-layering of action sequences reminiscent of Mission Impossible meets The Fugitive. Honestly, don't those guys ever get 'intelligence' information that is correct? In the final analysis, \\\"National Treasure\\\" isn't great film making, so much as it's a patchwork rehash of tired old bits from other movies, woven together from scraps, the likes of which would make IL' Betsy Ross blush.<br /><br />The Buena Vista DVD delivers a far more generous treatment than this film is deserving of. The anamorphic widescreen picture exhibits a very smooth and finely detailed image with very rich colors, natural flesh tones, solid blacks and clean whites. The stylized image is also free of blemishes and digital enhancements. The audio is 5.1 and delivers a nice sonic boom to your side and rear speakers with intensity and realism. Extras include a host of promotional junket material that is rather deep and over the top in its explanation of how and why this film was made. If only, as an audience, we had had more clarification as to why Ben and co. were chasing after an illusive treasure, this might have been one good flick. Extras conclude with the theatrical trailer, audio commentary and deleted scenes. Not for the faint-hearted \\u0096 just the thick-headed.\"\n        ],\n        \"semantic_type\": \"\",\n        \"description\": \"\"\n      }\n    },\n    {\n      \"column\": \"sentiment\",\n      \"properties\": {\n        \"dtype\": \"category\",\n        \"num_unique_values\": 2,\n        \"samples\": [\n          \"negative\",\n          \"positive\"\n        ],\n        \"semantic_type\": \"\",\n        \"description\": \"\"\n      }\n    },\n    {\n      \"column\": \"token_length\",\n      \"properties\": {\n        \"dtype\": \"number\",\n        \"std\": 171,\n        \"min\": 4,\n        \"max\": 2470,\n        \"num_unique_values\": 1047,\n        \"samples\": [\n          204,\n          661\n        ],\n        \"semantic_type\": \"\",\n        \"description\": \"\"\n      }\n    },\n    {\n      \"column\": \"label\",\n      \"properties\": {\n        \"dtype\": \"number\",\n        \"std\": 0,\n        \"min\": 0,\n        \"max\": 1,\n        \"num_unique_values\": 2,\n        \"samples\": [\n          0,\n          1\n        ],\n        \"semantic_type\": \"\",\n        \"description\": \"\"\n      }\n    }\n  ]\n}"
            }
          },
          "metadata": {},
          "execution_count": 2
        }
      ]
    },
    {
      "cell_type": "code",
      "source": [
        "data['token_length'] = data.review.progress_apply(lambda x: len(x.split()))"
      ],
      "metadata": {
        "colab": {
          "base_uri": "https://localhost:8080/"
        },
        "id": "uR8kceoxEGO4",
        "outputId": "651b3845-cf3a-4390-8ed8-1393205548bc"
      },
      "execution_count": 3,
      "outputs": [
        {
          "output_type": "stream",
          "name": "stderr",
          "text": [
            "100%|██████████| 50000/50000 [00:00<00:00, 69589.48it/s]\n"
          ]
        }
      ]
    },
    {
      "cell_type": "code",
      "source": [
        "data_neg = data[data['label'] == 0]\n",
        "data_neg['token_length'].describe()"
      ],
      "metadata": {
        "colab": {
          "base_uri": "https://localhost:8080/"
        },
        "id": "Ln9TBilo262H",
        "outputId": "c1e534c4-6bec-42a5-a768-8388d660f2d4"
      },
      "execution_count": 4,
      "outputs": [
        {
          "output_type": "execute_result",
          "data": {
            "text/plain": [
              "count    25000.000000\n",
              "mean       229.464560\n",
              "std        164.947795\n",
              "min          4.000000\n",
              "25%        128.000000\n",
              "50%        174.000000\n",
              "75%        278.000000\n",
              "max       1522.000000\n",
              "Name: token_length, dtype: float64"
            ]
          },
          "metadata": {},
          "execution_count": 4
        }
      ]
    },
    {
      "cell_type": "code",
      "source": [
        "data_pos = data[data['label'] == 1]\n",
        "data_pos['token_length'].describe()"
      ],
      "metadata": {
        "colab": {
          "base_uri": "https://localhost:8080/"
        },
        "id": "TxHPn7x7Ftpy",
        "outputId": "70c79122-2683-422e-aba2-187c20187c1a"
      },
      "execution_count": 5,
      "outputs": [
        {
          "output_type": "execute_result",
          "data": {
            "text/plain": [
              "count    25000.000000\n",
              "mean       232.849320\n",
              "std        177.497046\n",
              "min         10.000000\n",
              "25%        125.000000\n",
              "50%        172.000000\n",
              "75%        284.000000\n",
              "max       2470.000000\n",
              "Name: token_length, dtype: float64"
            ]
          },
          "metadata": {},
          "execution_count": 5
        }
      ]
    },
    {
      "cell_type": "code",
      "source": [
        "plt.figure(figsize=(5, 8))\n",
        "sns.displot(data_pos, x='token_length')\n",
        "plt.title('Positive Token Length Distribution')\n",
        "plt.show()"
      ],
      "metadata": {
        "colab": {
          "base_uri": "https://localhost:8080/",
          "height": 546
        },
        "id": "cpk83Dt_2oPN",
        "outputId": "ce85f99c-f1f9-406b-9ad1-420c5440d690"
      },
      "execution_count": 6,
      "outputs": [
        {
          "output_type": "display_data",
          "data": {
            "text/plain": [
              "<Figure size 500x800 with 0 Axes>"
            ]
          },
          "metadata": {}
        },
        {
          "output_type": "display_data",
          "data": {
            "text/plain": [
              "<Figure size 500x500 with 1 Axes>"
            ],
            "image/png": "[encoded data removed]"
          },
          "metadata": {}
        }
      ]
    },
    {
      "cell_type": "code",
      "source": [
        "plt.figure(figsize=(5, 8))\n",
        "sns.displot(data_pos, x='token_length')\n",
        "plt.title('Negative Token Length Distribution')\n",
        "plt.show()"
      ],
      "metadata": {
        "colab": {
          "base_uri": "https://localhost:8080/",
          "height": 546
        },
        "id": "mHf98FJX2-gX",
        "outputId": "b9d8f932-e435-403a-b948-99f9357ab572"
      },
      "execution_count": 7,
      "outputs": [
        {
          "output_type": "display_data",
          "data": {
            "text/plain": [
              "<Figure size 500x800 with 0 Axes>"
            ]
          },
          "metadata": {}
        },
        {
          "output_type": "display_data",
          "data": {
            "text/plain": [
              "<Figure size 500x500 with 1 Axes>"
            ],
            "image/png": "[encoded data removed]"
          },
          "metadata": {}
        }
      ]
    },
    {
      "cell_type": "code",
      "source": [
        "print('Positive')\n",
        "print(data_pos[data_pos['token_length'] == data_pos['token_length'].min()]['review'].item())\n",
        "print()\n",
        "print('Negative')\n",
        "print(data_neg[data_neg['token_length'] == data_neg['token_length'].min()]['review'].item())"
      ],
      "metadata": {
        "colab": {
          "base_uri": "https://localhost:8080/"
        },
        "id": "r5kaROVl2_3a",
        "outputId": "f2d0ca73-b09b-4624-9b69-61ecad4a096d"
      },
      "execution_count": 8,
      "outputs": [
        {
          "output_type": "stream",
          "name": "stdout",
          "text": [
            "Positive\n",
            "Brilliant and moving performances by Tom Courtenay and Peter Finch.\n",
            "\n",
            "Negative\n",
            "Primary plot!Primary direction!Poor interpretation.\n"
          ]
        }
      ]
    },
    {
      "cell_type": "code",
      "source": [
        "def rm_link(text):\n",
        "    return re.sub(r'https?://\\S+|www\\.\\S+', '', text)\n",
        "\n",
        "# handle case like \"shut up okay?Im only 10 years old\"\n",
        "# become \"shut up okay Im only 10 years old\"\n",
        "def rm_punct2(text):\n",
        "    # return re.sub(r'[\\!\\\"\\#\\$\\%\\&\\'\\(\\)\\*\\+\\,\\-\\.\\/\\:\\;\\<\\=\\>\\?\\@\\[\\\\\\]\\^\\_\\`\\{\\|\\}\\~]', ' ', text)\n",
        "    return re.sub(r'[\\\"\\#\\$\\%\\&\\'\\(\\)\\*\\+\\/\\:\\;\\<\\=\\>\\@\\[\\\\\\]\\^\\_\\`\\{\\|\\}\\~]', ' ', text)\n",
        "\n",
        "def rm_html(text):\n",
        "    return re.sub(r'<[^>]+>', '', text)\n",
        "\n",
        "def space_bt_punct(text):\n",
        "    pattern = r'([.,!?-])'\n",
        "    s = re.sub(pattern, r' \\1 ', text)     # add whitespaces between punctuation\n",
        "    s = re.sub(r'\\s{2,}', ' ', s)        # remove double whitespaces\n",
        "    return s\n",
        "\n",
        "def rm_number(text):\n",
        "    return re.sub(r'\\d+', '', text)\n",
        "\n",
        "def rm_whitespaces(text):\n",
        "    return re.sub(r' +', ' ', text)\n",
        "\n",
        "def rm_nonascii(text):\n",
        "    return re.sub(r'[^\\x00-\\x7f]', r'', text)\n",
        "\n",
        "def rm_emoji(text):\n",
        "    emojis = re.compile(\n",
        "        '['\n",
        "        u'\\U0001F600-\\U0001F64F'  # emoticons\n",
        "        u'\\U0001F300-\\U0001F5FF'  # symbols & pictographs\n",
        "        u'\\U0001F680-\\U0001F6FF'  # transport & map symbols\n",
        "        u'\\U0001F1E0-\\U0001F1FF'  # flags (iOS)\n",
        "        u'\\U00002702-\\U000027B0'\n",
        "        u'\\U000024C2-\\U0001F251'\n",
        "        ']+',\n",
        "        flags=re.UNICODE\n",
        "    )\n",
        "    return emojis.sub(r'', text)\n",
        "\n",
        "def spell_correction(text):\n",
        "    return re.sub(r'(.)\\1+', r'\\1\\1', text)\n",
        "\n",
        "def clean_pipeline(text):\n",
        "    no_link = rm_link(text)\n",
        "    no_html = rm_html(no_link)\n",
        "    space_punct = space_bt_punct(no_html)\n",
        "    no_punct = rm_punct2(space_punct)\n",
        "    no_number = rm_number(no_punct)\n",
        "    no_whitespaces = rm_whitespaces(no_number)\n",
        "    no_nonasci = rm_nonascii(no_whitespaces)\n",
        "    no_emoji = rm_emoji(no_nonasci)\n",
        "    spell_corrected = spell_correction(no_emoji)\n",
        "    return spell_corrected"
      ],
      "metadata": {
        "id": "3I7BgRgm3BzU"
      },
      "execution_count": 9,
      "outputs": []
    },
    {
      "cell_type": "code",
      "source": [
        "def tokenize(text):\n",
        "    return word_tokenize(text)\n",
        "\n",
        "def rm_stopwords(text):\n",
        "    return [i for i in text if i not in stopwords]\n",
        "\n",
        "def lemmatize(text):\n",
        "    lemmatizer = WordNetLemmatizer()\n",
        "    lemmas = [lemmatizer.lemmatize(t) for t in text]\n",
        "    # make sure lemmas does not contains sotpwords\n",
        "    return rm_stopwords(lemmas)\n",
        "\n",
        "def preprocess_pipeline(text):\n",
        "    tokens = tokenize(text)\n",
        "    no_stopwords = rm_stopwords(tokens)\n",
        "    lemmas = lemmatize(no_stopwords)\n",
        "    return ' '.join(lemmas)"
      ],
      "metadata": {
        "id": "JrijQdJW3DCT"
      },
      "execution_count": 10,
      "outputs": []
    },
    {
      "cell_type": "code",
      "source": [],
      "metadata": {
        "colab": {
          "base_uri": "https://localhost:8080/"
        },
        "id": "r6TSifItFtIh",
        "outputId": "422bd68f-63a5-409d-99eb-a5a436f43c84"
      },
      "execution_count": 13,
      "outputs": [
        {
          "output_type": "stream",
          "name": "stderr",
          "text": [
            "[nltk_data] Downloading package punkt to /root/nltk_data...\n",
            "[nltk_data]   Unzipping tokenizers/punkt.zip.\n"
          ]
        },
        {
          "output_type": "execute_result",
          "data": {
            "text/plain": [
              "True"
            ]
          },
          "metadata": {},
          "execution_count": 13
        }
      ]
    },
    {
      "cell_type": "code",
      "source": [
        "data['clean'] = data['review'].progress_apply(clean_pipeline)\n",
        "\n",
        "data.head()"
      ],
      "metadata": {
        "id": "Xf1lCaey3EEw"
      },
      "execution_count": null,
      "outputs": []
    },
    {
      "cell_type": "code",
      "source": [
        "data['processed'] = data['clean'].progress_apply(preprocess_pipeline)"
      ],
      "metadata": {
        "colab": {
          "base_uri": "https://localhost:8080/"
        },
        "id": "HMJmGGxsF0qG",
        "outputId": "32946409-cf5a-4008-96eb-6530f54858e5"
      },
      "execution_count": 14,
      "outputs": [
        {
          "output_type": "stream",
          "name": "stderr",
          "text": [
            "100%|██████████| 50000/50000 [01:49<00:00, 456.20it/s]\n"
          ]
        }
      ]
    },
    {
      "cell_type": "code",
      "source": [
        "# keep only processed and label columns\n",
        "data[['processed', 'label']].to_csv('./imdb_processed.csv', index=False, header=True)"
      ],
      "metadata": {
        "id": "BbXMVCJW3F_3"
      },
      "execution_count": 15,
      "outputs": []
    },
    {
      "cell_type": "code",
      "source": [
        "data = pd.read_csv('./imdb_processed.csv')\n",
        "data.head()\n",
        "\n",
        "for row in data[:2].iterrows():\n",
        "    print(row[1]['processed'])\n",
        "    print(f'Label: {row[1][\"label\"]}')\n",
        "    print('\\n')"
      ],
      "metadata": {
        "colab": {
          "base_uri": "https://localhost:8080/"
        },
        "id": "wF0kLTNp3k8z",
        "outputId": "511208af-ee85-4185-dbfc-9c3ea5441b12"
      },
      "execution_count": 16,
      "outputs": [
        {
          "output_type": "stream",
          "name": "stdout",
          "text": [
            "One reviewer mentioned watching Oz episode hooked . They right , exactly happened . The first thing struck Oz brutality unflinching scene violence , set right word GO . Trust , show faint hearted timid . This show pull punch regard drug , sex violence . Its hardcore , classic use word . It called OZ nickname given Oswald Maximum Security State Penitentary . It focus mainly Emerald City , experimental section prison cell glass front face inwards , privacy high agenda . Em City home many . . Aryans , Muslims , gangsta , Latinos , Christians , Italians , Irish . . . . scuffle , death stare , dodgy dealing shady agreement never far away . I would say main appeal show due fact go show dare . Forget pretty picture painted mainstream audience , forget charm , forget romance . . . OZ mess around . The first episode I ever saw struck nasty surreal , I say I ready , I watched , I developed taste Oz , got accustomed high level graphic violence . Not violence , injustice crooked guard sold nickel , inmate kill order get away , well mannered , middle class inmate turned prison bitch due lack street skill prison experience Watching Oz , may become comfortable uncomfortable viewing . . . . thats get touch darker side .\n",
            "Label: 1\n",
            "\n",
            "\n",
            "A wonderful little production . The filming technique unassuming - old - time - BBC fashion give comforting , sometimes discomforting , sense realism entire piece . The actor extremely well chosen - Michael Sheen got polari voice pat ! You truly see seamless editing guided reference Williams diary entry , well worth watching terrificly written performed piece . A masterful production one great master comedy life . The realism really come home little thing fantasy guard , rather use traditional dream technique remains solid disappears . It play knowledge sens , particularly scene concerning Orton Halliwell set particularly flat Halliwell mural decorating every surface terribly well done .\n",
            "Label: 1\n",
            "\n",
            "\n"
          ]
        }
      ]
    },
    {
      "cell_type": "code",
      "source": [
        "reviews = data.processed.values\n",
        "words = ' '.join(reviews)\n",
        "words = words.split()\n",
        "words[:10]"
      ],
      "metadata": {
        "colab": {
          "base_uri": "https://localhost:8080/"
        },
        "id": "dmRuQ6tH3tTf",
        "outputId": "b7f1fe6d-a173-4dd3-acc4-47b26897c39f"
      },
      "execution_count": 18,
      "outputs": [
        {
          "output_type": "execute_result",
          "data": {
            "text/plain": [
              "['One',\n",
              " 'reviewer',\n",
              " 'mentioned',\n",
              " 'watching',\n",
              " 'Oz',\n",
              " 'episode',\n",
              " 'hooked',\n",
              " '.',\n",
              " 'They',\n",
              " 'right']"
            ]
          },
          "metadata": {},
          "execution_count": 18
        }
      ]
    },
    {
      "cell_type": "code",
      "source": [
        "counter = Counter(words)\n",
        "vocab = sorted(counter, key =  counter.get, reverse = True)\n",
        "int2word = dict(enumerate(vocab,1))\n",
        "int2word[0] ='<PAD>'\n",
        "word2int = {word: index for index, word in int2word.items()}"
      ],
      "metadata": {
        "id": "-Rwq9Lg-GdHB"
      },
      "execution_count": 24,
      "outputs": []
    },
    {
      "cell_type": "code",
      "source": [
        "reviews_enc = [[word2int[word] for word in review.split()] for review in tqdm(reviews)]"
      ],
      "metadata": {
        "colab": {
          "base_uri": "https://localhost:8080/"
        },
        "id": "3zirMlGLGpqw",
        "outputId": "914ede4f-06fa-4c41-dab7-34223d5e8f45"
      },
      "execution_count": 25,
      "outputs": [
        {
          "output_type": "stream",
          "name": "stderr",
          "text": [
            "100%|██████████| 50000/50000 [00:01<00:00, 33349.48it/s]\n"
          ]
        }
      ]
    },
    {
      "cell_type": "code",
      "source": [
        "def pad_features(reviews, pad_id, seq_length=128):\n",
        "    # features = np.zeros((len(reviews), seq_length), dtype=int)\n",
        "    features = np.full((len(reviews), seq_length), pad_id, dtype=int)\n",
        "\n",
        "    for i, row in enumerate(reviews):\n",
        "        # if seq_length < len(row) then review will be trimmed\n",
        "        features[i, :len(row)] = np.array(row)[:seq_length]\n",
        "\n",
        "    return features\n",
        "\n",
        "seq_length = 256\n",
        "features = pad_features(reviews_enc, pad_id=word2int['<PAD>'], seq_length=seq_length)\n",
        "\n",
        "assert len(features) == len(reviews_enc)\n",
        "assert len(features[0]) == seq_length\n",
        "\n",
        "features[:10, :10]"
      ],
      "metadata": {
        "colab": {
          "base_uri": "https://localhost:8080/"
        },
        "id": "oFOGinFQG-J9",
        "outputId": "527fc251-21c4-489f-f9ae-5817f4e7fc9b"
      },
      "execution_count": 33,
      "outputs": [
        {
          "output_type": "execute_result",
          "data": {
            "text/plain": [
              "array([[  191,  1083,   930,    81,  3724,   186,  3030,     1,   118,\n",
              "          114],\n",
              "       [   47,   328,    59,   244,     1,     7,  1267,  1608, 17875,\n",
              "            4],\n",
              "       [    3,    95,   328,    30,  1041,    13,   845,  1774,  2633,\n",
              "            2],\n",
              "       [ 2408,   136,    59,   241,  3230,    37,   650,  4298,   583,\n",
              "          882],\n",
              "       [70982, 10566,  1081,  1941,  7538,  2280,  1313,     6,    46,\n",
              "            1],\n",
              "       [ 2795,     4,    13,   368,     5,     2,    17, 42503,     2,\n",
              "         2952],\n",
              "       [    3,   197,    18,    10,    21, 12517,  1904, 55922,   121,\n",
              "         5112],\n",
              "       [   14,    31,   427,     2,  1342,  4021,   165,    34,  2960,\n",
              "            1],\n",
              "       [47893,   980,   359,     6,     3,   180,   776,    81,     6,\n",
              "            1],\n",
              "       [   64,    10,   125,  2269,  5606,  1980,    10,     5,     1,\n",
              "           64]])"
            ]
          },
          "metadata": {},
          "execution_count": 33
        }
      ]
    },
    {
      "cell_type": "code",
      "source": [
        "labels = data.label.to_numpy()\n",
        "labels"
      ],
      "metadata": {
        "colab": {
          "base_uri": "https://localhost:8080/"
        },
        "id": "stgDE89QHowm",
        "outputId": "7cdd4f02-4e43-467c-83a8-afd440b5085c"
      },
      "execution_count": 32,
      "outputs": [
        {
          "output_type": "execute_result",
          "data": {
            "text/plain": [
              "array([1, 1, 1, ..., 0, 0, 0])"
            ]
          },
          "metadata": {},
          "execution_count": 32
        }
      ]
    },
    {
      "cell_type": "code",
      "source": [
        "# train test split\n",
        "train_size = .7     # we will use 80% of whole data as train set\n",
        "val_size = .5       # and we will use 50% of test set as validation set\n",
        "\n",
        "# make train set\n",
        "split_id = int(len(features) * train_size)\n",
        "train_x, remain_x = features[:split_id], features[split_id:]\n",
        "train_y, remain_y = labels[:split_id], labels[split_id:]\n",
        "\n",
        "# make val and test set\n",
        "split_val_id = int(len(remain_x) * val_size)\n",
        "val_x, test_x = remain_x[:split_val_id], remain_x[split_val_id:]\n",
        "val_y, test_y = remain_y[:split_val_id], remain_y[split_val_id:]\n",
        "\n",
        "# print out the shape\n",
        "print('Feature Shapes:')\n",
        "print('===============')\n",
        "print('Train set: {}'.format(train_x.shape))\n",
        "print('Validation set: {}'.format(val_x.shape))\n",
        "print('Test set: {}'.format(test_x.shape))"
      ],
      "metadata": {
        "colab": {
          "base_uri": "https://localhost:8080/"
        },
        "id": "h3MRnhXwKRQv",
        "outputId": "47d00bf0-c5dd-40a5-b54e-eb0280ef8a94"
      },
      "execution_count": 34,
      "outputs": [
        {
          "output_type": "stream",
          "name": "stdout",
          "text": [
            "Feature Shapes:\n",
            "===============\n",
            "Train set: (35000, 256)\n",
            "Validation set: (7500, 256)\n",
            "Test set: (7500, 256)\n"
          ]
        }
      ]
    },
    {
      "cell_type": "code",
      "source": [
        "print(len(train_y[train_y == 0]), len(train_y[train_y == 1]))\n",
        "print(len(val_y[val_y == 0]), len(val_y[val_y == 1]))\n",
        "print(len(test_y[test_y == 0]), len(test_y[test_y == 1]))"
      ],
      "metadata": {
        "colab": {
          "base_uri": "https://localhost:8080/"
        },
        "id": "_D41oDvaNe1h",
        "outputId": "ed02f16d-b26a-4550-dd84-2b33b0081902"
      },
      "execution_count": 35,
      "outputs": [
        {
          "output_type": "stream",
          "name": "stdout",
          "text": [
            "17510 17490\n",
            "3753 3747\n",
            "3737 3763\n"
          ]
        }
      ]
    },
    {
      "cell_type": "code",
      "source": [
        "# define batch size\n",
        "batch_size = 128\n",
        "\n",
        "# create tensor datasets\n",
        "trainset = TensorDataset(torch.from_numpy(train_x), torch.from_numpy(train_y))\n",
        "validset = TensorDataset(torch.from_numpy(val_x), torch.from_numpy(val_y))\n",
        "testset = TensorDataset(torch.from_numpy(test_x), torch.from_numpy(test_y))\n",
        "\n",
        "# create dataloaders\n",
        "trainloader = DataLoader(trainset, shuffle=True, batch_size=batch_size)\n",
        "valloader = DataLoader(validset, shuffle=True, batch_size=batch_size)\n",
        "testloader = DataLoader(testset, shuffle=True, batch_size=batch_size)"
      ],
      "metadata": {
        "id": "b02F2TiyNzRW"
      },
      "execution_count": 36,
      "outputs": []
    },
    {
      "cell_type": "code",
      "source": [
        "# check our batches\n",
        "dataiter = iter(trainloader)\n",
        "x, y = next(dataiter)\n",
        "print('Sample batch size: ', x.size())   # batch_size, seq_length\n",
        "print('Sample batch input: \\n', x)\n",
        "print()\n",
        "print('Sample label size: ', y.size())   # batch_size\n",
        "print('Sample label input: \\n', y)"
      ],
      "metadata": {
        "colab": {
          "base_uri": "https://localhost:8080/"
        },
        "id": "6XRc7DmgN09U",
        "outputId": "353d8c04-814d-4e64-88f7-eb7de7d5c50d"
      },
      "execution_count": 41,
      "outputs": [
        {
          "output_type": "stream",
          "name": "stdout",
          "text": [
            "Sample batch size:  torch.Size([128, 256])\n",
            "Sample batch input: \n",
            " tensor([[    7,  1443,  2944,  ...,     0,     0,     0],\n",
            "        [    1,     1,     1,  ...,     0,     0,     0],\n",
            "        [ 4283,   789, 25465,  ...,   191,    36,  4447],\n",
            "        ...,\n",
            "        [    3,  2362,   268,  ...,     0,     0,     0],\n",
            "        [11049,   239,     2,  ...,     0,     0,     0],\n",
            "        [13411,     8,    60,  ...,     0,     0,     0]])\n",
            "\n",
            "Sample label size:  torch.Size([128])\n",
            "Sample label input: \n",
            " tensor([1, 0, 1, 0, 1, 0, 0, 1, 1, 1, 1, 1, 1, 0, 0, 0, 0, 1, 1, 1, 0, 1, 1, 1,\n",
            "        0, 0, 0, 1, 0, 0, 0, 1, 0, 1, 0, 1, 0, 0, 1, 1, 1, 0, 0, 0, 0, 1, 0, 1,\n",
            "        0, 0, 0, 1, 0, 1, 1, 1, 1, 0, 1, 0, 1, 0, 0, 0, 0, 0, 1, 0, 1, 1, 1, 1,\n",
            "        1, 1, 1, 0, 1, 0, 0, 0, 1, 0, 1, 0, 1, 0, 1, 0, 0, 1, 1, 1, 1, 0, 1, 1,\n",
            "        1, 1, 0, 0, 0, 0, 1, 1, 0, 0, 0, 0, 1, 0, 0, 0, 1, 1, 1, 1, 1, 0, 0, 1,\n",
            "        1, 0, 0, 1, 1, 0, 1, 1])\n"
          ]
        }
      ]
    },
    {
      "cell_type": "code",
      "source": [
        "class SentimentModel(nn.Module):\n",
        "    def __init__(self, vocab_size, output_size, hidden_size=128, embedding_size=400, n_layers=2, dropout=0.2):\n",
        "        super(SentimentModel, self).__init__()\n",
        "\n",
        "        # embedding layer is useful to map input into vector representation\n",
        "        self.embedding = nn.Embedding(vocab_size, embedding_size)\n",
        "\n",
        "        # LSTM layer preserved by PyTorch library\n",
        "        self.lstm = nn.LSTM(embedding_size, hidden_size, n_layers, dropout=dropout, batch_first=True)\n",
        "\n",
        "        # dropout layer\n",
        "        self.dropout = nn.Dropout(0.3)\n",
        "\n",
        "        # Linear layer for output\n",
        "        self.fc = nn.Linear(hidden_size, output_size)\n",
        "\n",
        "        # Sigmoid layer cz we will have binary classification\n",
        "        self.sigmoid = nn.Sigmoid()\n",
        "\n",
        "    def forward(self, x):\n",
        "\n",
        "        # convert feature to long\n",
        "        x = x.long()\n",
        "\n",
        "        # map input to vector\n",
        "        x = self.embedding(x)\n",
        "\n",
        "        # pass forward to lstm\n",
        "        o, _ =  self.lstm(x)\n",
        "\n",
        "        # get last sequence output\n",
        "        o = o[:, -1, :]\n",
        "\n",
        "        # apply dropout and fully connected layer\n",
        "        o = self.dropout(o)\n",
        "        o = self.fc(o)\n",
        "\n",
        "        # sigmoid\n",
        "        o = self.sigmoid(o)\n",
        "\n",
        "        return o"
      ],
      "metadata": {
        "id": "2VYth6NyOqFs"
      },
      "execution_count": 42,
      "outputs": []
    },
    {
      "cell_type": "code",
      "source": [
        "# define training device\n",
        "device = torch.device('cuda' if torch.cuda.is_available() else 'cpu')\n",
        "print(device)"
      ],
      "metadata": {
        "colab": {
          "base_uri": "https://localhost:8080/"
        },
        "id": "zHazv0n9OsDb",
        "outputId": "e5f965d7-33b1-4769-eb4a-f946aab98927"
      },
      "execution_count": 43,
      "outputs": [
        {
          "output_type": "stream",
          "name": "stdout",
          "text": [
            "cuda\n"
          ]
        }
      ]
    },
    {
      "cell_type": "markdown",
      "source": [],
      "metadata": {
        "id": "ZPWxlPqMN2U9"
      }
    },
    {
      "cell_type": "code",
      "source": [
        "vocab_size = len(word2int)\n",
        "output_size = 1\n",
        "embedding_size = 256\n",
        "hidden_size = 512\n",
        "n_layers = 2\n",
        "dropout=0.25\n",
        "\n",
        "# model initialization\n",
        "model = SentimentModel(vocab_size, output_size, hidden_size, embedding_size, n_layers, dropout)\n",
        "print(model)"
      ],
      "metadata": {
        "colab": {
          "base_uri": "https://localhost:8080/"
        },
        "id": "-vGLx1oNOthC",
        "outputId": "14d0ef6c-9385-46ea-d646-653f4232d0a0"
      },
      "execution_count": 44,
      "outputs": [
        {
          "output_type": "stream",
          "name": "stdout",
          "text": [
            "SentimentModel(\n",
            "  (embedding): Embedding(121301, 256)\n",
            "  (lstm): LSTM(256, 512, num_layers=2, batch_first=True, dropout=0.25)\n",
            "  (dropout): Dropout(p=0.3, inplace=False)\n",
            "  (fc): Linear(in_features=512, out_features=1, bias=True)\n",
            "  (sigmoid): Sigmoid()\n",
            ")\n"
          ]
        }
      ]
    },
    {
      "cell_type": "code",
      "source": [
        "# training config\n",
        "lr = 0.001\n",
        "criterion = nn.BCELoss()  # we use BCELoss cz we have binary classification problem\n",
        "optim = Adam(model.parameters(), lr=lr)\n",
        "grad_clip = 5\n",
        "epochs = 8\n",
        "print_every = 1\n",
        "history = {\n",
        "    'train_loss': [],\n",
        "    'train_acc': [],\n",
        "    'val_loss': [],\n",
        "    'val_acc': [],\n",
        "    'epochs': epochs\n",
        "}\n",
        "es_limit = 5"
      ],
      "metadata": {
        "id": "H07oIwMBOvoJ"
      },
      "execution_count": 45,
      "outputs": []
    },
    {
      "cell_type": "code",
      "source": [
        "model = model.to(device)\n",
        "\n",
        "epochloop = tqdm(range(epochs), position=0, desc='Training', leave=True)\n",
        "\n",
        "# early stop trigger\n",
        "es_trigger = 0\n",
        "val_loss_min = torch.inf\n",
        "\n",
        "for e in epochloop:\n",
        "\n",
        "    #################\n",
        "    # training mode #\n",
        "    #################\n",
        "\n",
        "    model.train()\n",
        "\n",
        "    train_loss = 0\n",
        "    train_acc = 0\n",
        "\n",
        "    for id, (feature, target) in enumerate(trainloader):\n",
        "        # add epoch meta info\n",
        "        epochloop.set_postfix_str(f'Training batch {id}/{len(trainloader)}')\n",
        "\n",
        "        # move to device\n",
        "        feature, target = feature.to(device), target.to(device)\n",
        "\n",
        "        # reset optimizer\n",
        "        optim.zero_grad()\n",
        "\n",
        "        # forward pass\n",
        "        out = model(feature)\n",
        "\n",
        "        # acc\n",
        "        predicted = torch.tensor([1 if i == True else 0 for i in out > 0.5], device=device)\n",
        "        equals = predicted == target\n",
        "        acc = torch.mean(equals.type(torch.FloatTensor))\n",
        "        train_acc += acc.item()\n",
        "\n",
        "        # loss\n",
        "        loss = criterion(out.squeeze(), target.float())\n",
        "        train_loss += loss.item()\n",
        "        loss.backward()\n",
        "\n",
        "        # clip grad\n",
        "        nn.utils.clip_grad_norm_(model.parameters(), grad_clip)\n",
        "\n",
        "        # update optimizer\n",
        "        optim.step()\n",
        "\n",
        "        # free some memory\n",
        "        del feature, target, predicted\n",
        "\n",
        "    history['train_loss'].append(train_loss / len(trainloader))\n",
        "    history['train_acc'].append(train_acc / len(trainloader))\n",
        "\n",
        "    ####################\n",
        "    # validation model #\n",
        "    ####################\n",
        "\n",
        "    model.eval()\n",
        "\n",
        "    val_loss = 0\n",
        "    val_acc = 0\n",
        "\n",
        "    with torch.no_grad():\n",
        "        for id, (feature, target) in enumerate(valloader):\n",
        "            # add epoch meta info\n",
        "            epochloop.set_postfix_str(f'Validation batch {id}/{len(valloader)}')\n",
        "\n",
        "            # move to device\n",
        "            feature, target = feature.to(device), target.to(device)\n",
        "\n",
        "            # forward pass\n",
        "            out = model(feature)\n",
        "\n",
        "            # acc\n",
        "            predicted = torch.tensor([1 if i == True else 0 for i in out > 0.5], device=device)\n",
        "            equals = predicted == target\n",
        "            acc = torch.mean(equals.type(torch.FloatTensor))\n",
        "            val_acc += acc.item()\n",
        "\n",
        "            # loss\n",
        "            loss = criterion(out.squeeze(), target.float())\n",
        "            val_loss += loss.item()\n",
        "\n",
        "            # free some memory\n",
        "            del feature, target, predicted\n",
        "\n",
        "        history['val_loss'].append(val_loss / len(valloader))\n",
        "        history['val_acc'].append(val_acc / len(valloader))\n",
        "\n",
        "    # reset model mode\n",
        "    model.train()\n",
        "\n",
        "    # add epoch meta info\n",
        "    epochloop.set_postfix_str(f'Val Loss: {val_loss / len(valloader):.3f} | Val Acc: {val_acc / len(valloader):.3f}')\n",
        "\n",
        "    # print epoch\n",
        "    if (e+1) % print_every == 0:\n",
        "        epochloop.write(f'Epoch {e+1}/{epochs} | Train Loss: {train_loss / len(trainloader):.3f} Train Acc: {train_acc / len(trainloader):.3f} | Val Loss: {val_loss / len(valloader):.3f} Val Acc: {val_acc / len(valloader):.3f}')\n",
        "        epochloop.update()\n",
        "\n",
        "    # save model if validation loss decrease\n",
        "    if val_loss / len(valloader) <= val_loss_min:\n",
        "        torch.save(model.state_dict(), './sentiment_lstm.pt')\n",
        "        val_loss_min = val_loss / len(valloader)\n",
        "        es_trigger = 0\n",
        "    else:\n",
        "        epochloop.write(f'[WARNING] Validation loss did not improved ({val_loss_min:.3f} --> {val_loss / len(valloader):.3f})')\n",
        "        es_trigger += 1\n",
        "\n",
        "    # force early stop\n",
        "    if es_trigger >= es_limit:\n",
        "        epochloop.write(f'Early stopped at Epoch-{e+1}')\n",
        "        # update epochs history\n",
        "        history['epochs'] = e+1\n",
        "        break"
      ],
      "metadata": {
        "colab": {
          "base_uri": "https://localhost:8080/"
        },
        "id": "nFdr0ywqOzLw",
        "outputId": "dbc8fd3a-8229-4594-db04-154348b636ee"
      },
      "execution_count": 46,
      "outputs": [
        {
          "metadata": {
            "tags": null
          },
          "name": "stderr",
          "output_type": "stream",
          "text": [
            "Training:  12%|█▎        | 1/8 [01:09<08:07, 69.71s/it, Val Loss: 0.694 | Val Acc: 0.505]"
          ]
        },
        {
          "metadata": {
            "tags": null
          },
          "name": "stdout",
          "output_type": "stream",
          "text": [
            "Epoch 1/8 | Train Loss: 0.698 Train Acc: 0.507 | Val Loss: 0.694 Val Acc: 0.505\n"
          ]
        },
        {
          "metadata": {
            "tags": null
          },
          "name": "stderr",
          "output_type": "stream",
          "text": [
            "Training:  38%|███▊      | 3/8 [02:23<04:06, 49.22s/it, Val Loss: 0.693 | Val Acc: 0.508]"
          ]
        },
        {
          "metadata": {
            "tags": null
          },
          "name": "stdout",
          "output_type": "stream",
          "text": [
            "Epoch 2/8 | Train Loss: 0.697 Train Acc: 0.503 | Val Loss: 0.693 Val Acc: 0.508\n"
          ]
        },
        {
          "metadata": {
            "tags": null
          },
          "name": "stderr",
          "output_type": "stream",
          "text": [
            "Training:  62%|██████▎   | 5/8 [03:37<02:57, 59.04s/it, Training batch 1/274]"
          ]
        },
        {
          "metadata": {
            "tags": null
          },
          "name": "stdout",
          "output_type": "stream",
          "text": [
            "Epoch 3/8 | Train Loss: 0.693 Train Acc: 0.514 | Val Loss: 0.695 Val Acc: 0.501\n",
            "[WARNING] Validation loss did not improved (0.693 --> 0.695)\n"
          ]
        },
        {
          "metadata": {
            "tags": null
          },
          "name": "stderr",
          "output_type": "stream",
          "text": [
            "Training:  75%|███████▌  | 6/8 [04:51<01:34, 47.38s/it, Val Loss: 0.496 | Val Acc: 0.752]"
          ]
        },
        {
          "metadata": {
            "tags": null
          },
          "name": "stdout",
          "output_type": "stream",
          "text": [
            "Epoch 4/8 | Train Loss: 0.609 Train Acc: 0.658 | Val Loss: 0.496 Val Acc: 0.752\n"
          ]
        },
        {
          "metadata": {
            "tags": null
          },
          "name": "stderr",
          "output_type": "stream",
          "text": [
            "Training:  88%|████████▊ | 7/8 [06:06<00:54, 54.86s/it, Val Loss: 0.407 | Val Acc: 0.834]"
          ]
        },
        {
          "metadata": {
            "tags": null
          },
          "name": "stdout",
          "output_type": "stream",
          "text": [
            "Epoch 5/8 | Train Loss: 0.394 Train Acc: 0.839 | Val Loss: 0.407 Val Acc: 0.834\n"
          ]
        },
        {
          "output_type": "stream",
          "name": "stderr",
          "text": [
            "Training: 9it [07:20, 49.50s/it, Val Loss: 0.374 | Val Acc: 0.848]                       "
          ]
        },
        {
          "output_type": "stream",
          "name": "stdout",
          "text": [
            "Epoch 6/8 | Train Loss: 0.295 Train Acc: 0.889 | Val Loss: 0.374 Val Acc: 0.848\n"
          ]
        },
        {
          "output_type": "stream",
          "name": "stderr",
          "text": [
            "Training: 10it [08:35, 56.76s/it, Val Loss: 0.358 | Val Acc: 0.860]"
          ]
        },
        {
          "output_type": "stream",
          "name": "stdout",
          "text": [
            "Epoch 7/8 | Train Loss: 0.230 Train Acc: 0.917 | Val Loss: 0.358 Val Acc: 0.860\n"
          ]
        },
        {
          "output_type": "stream",
          "name": "stderr",
          "text": [
            "Training: 100%|██████████| 8/8 [09:50<00:00, 73.76s/it, Val Loss: 0.364 | Val Acc: 0.864]"
          ]
        },
        {
          "output_type": "stream",
          "name": "stdout",
          "text": [
            "Epoch 8/8 | Train Loss: 0.180 Train Acc: 0.941 | Val Loss: 0.364 Val Acc: 0.864\n",
            "[WARNING] Validation loss did not improved (0.358 --> 0.364)\n"
          ]
        },
        {
          "output_type": "stream",
          "name": "stderr",
          "text": [
            "\n"
          ]
        }
      ]
    },
    {
      "cell_type": "code",
      "source": [
        "# plot loss\n",
        "plt.figure(figsize=(6, 8))\n",
        "plt.plot(range(history['epochs']), history['train_acc'], label='Train Acc')\n",
        "plt.plot(range(history['epochs']), history['val_acc'], label='Val Acc')\n",
        "plt.legend()\n",
        "plt.show()"
      ],
      "metadata": {
        "colab": {
          "base_uri": "https://localhost:8080/",
          "height": 676
        },
        "id": "OZ3FYs3-Ot3_",
        "outputId": "6c664756-5425-4066-fcac-d726dbefc167"
      },
      "execution_count": 47,
      "outputs": [
        {
          "output_type": "display_data",
          "data": {
            "text/plain": [
              "<Figure size 600x800 with 1 Axes>"
            ],
            "image/png": "[encoded data removed]"
          },
          "metadata": {}
        }
      ]
    },
    {
      "cell_type": "code",
      "source": [
        "# plot loss\n",
        "plt.figure(figsize=(6, 8))\n",
        "plt.plot(range(history['epochs']), history['train_loss'], label='Train Loss')\n",
        "plt.plot(range(history['epochs']), history['val_loss'], label='Val Loss')\n",
        "plt.legend()\n",
        "plt.show()"
      ],
      "metadata": {
        "colab": {
          "base_uri": "https://localhost:8080/",
          "height": 676
        },
        "id": "CfN_t8M5Q5s-",
        "outputId": "8aefab31-cf0a-4339-a48c-0ed55f45a755"
      },
      "execution_count": 48,
      "outputs": [
        {
          "output_type": "display_data",
          "data": {
            "text/plain": [
              "<Figure size 600x800 with 1 Axes>"
            ],
            "image/png": "[encoded data removed]"
          },
          "metadata": {}
        }
      ]
    },
    {
      "cell_type": "code",
      "source": [
        "model.eval()\n",
        "\n",
        "# metrics\n",
        "test_loss = 0\n",
        "test_acc = 0\n",
        "\n",
        "all_target = []\n",
        "all_predicted = []\n",
        "\n",
        "testloop = tqdm(testloader, leave=True, desc='Inference')\n",
        "with torch.no_grad():\n",
        "    for feature, target in testloop:\n",
        "        feature, target = feature.to(device), target.to(device)\n",
        "\n",
        "        out = model(feature)\n",
        "\n",
        "        predicted = torch.tensor([1 if i == True else 0 for i in out > 0.5], device=device)\n",
        "        equals = predicted == target\n",
        "        acc = torch.mean(equals.type(torch.FloatTensor))\n",
        "        test_acc += acc.item()\n",
        "\n",
        "        loss = criterion(out.squeeze(), target.float())\n",
        "        test_loss += loss.item()\n",
        "\n",
        "        all_target.extend(target.cpu().numpy())\n",
        "        all_predicted.extend(predicted.cpu().numpy())\n",
        "\n",
        "    print(f'Accuracy: {test_acc/len(testloader):.4f}, Loss: {test_loss/len(testloader):.4f}')"
      ],
      "metadata": {
        "colab": {
          "base_uri": "https://localhost:8080/"
        },
        "id": "AI3PzrqrQ6Yb",
        "outputId": "1122ffd9-fc38-4ca8-9ca1-c6fd7d58cf8f"
      },
      "execution_count": 49,
      "outputs": [
        {
          "output_type": "stream",
          "name": "stderr",
          "text": [
            "Inference: 100%|██████████| 59/59 [00:05<00:00, 11.66it/s]"
          ]
        },
        {
          "output_type": "stream",
          "name": "stdout",
          "text": [
            "Accuracy: 0.8692, Loss: 0.3545\n"
          ]
        },
        {
          "output_type": "stream",
          "name": "stderr",
          "text": [
            "\n"
          ]
        }
      ]
    },
    {
      "cell_type": "code",
      "source": [
        "print(classification_report(all_predicted, all_target))"
      ],
      "metadata": {
        "colab": {
          "base_uri": "https://localhost:8080/"
        },
        "id": "sqO8SxglQ8jR",
        "outputId": "27bf91c8-67c8-41a5-ebf5-89f0cada448e"
      },
      "execution_count": 50,
      "outputs": [
        {
          "output_type": "stream",
          "name": "stdout",
          "text": [
            "              precision    recall  f1-score   support\n",
            "\n",
            "           0       0.89      0.86      0.87      3876\n",
            "           1       0.85      0.88      0.87      3624\n",
            "\n",
            "    accuracy                           0.87      7500\n",
            "   macro avg       0.87      0.87      0.87      7500\n",
            "weighted avg       0.87      0.87      0.87      7500\n",
            "\n"
          ]
        }
      ]
    },
    {
      "cell_type": "code",
      "source": [
        "cm = confusion_matrix(all_predicted, all_target)\n",
        "plt.figure(figsize=(5,5))\n",
        "sns.heatmap(cm, annot=True, fmt='g')\n",
        "plt.title('Confusion Matrix')\n",
        "plt.show()"
      ],
      "metadata": {
        "colab": {
          "base_uri": "https://localhost:8080/",
          "height": 468
        },
        "id": "b7h_V7RnRJcN",
        "outputId": "77157a57-3610-4b6e-a0fd-f7adb9143761"
      },
      "execution_count": 51,
      "outputs": [
        {
          "output_type": "display_data",
          "data": {
            "text/plain": [
              "<Figure size 500x500 with 2 Axes>"
            ],
            "image/png": "[encoded data removed]"
          },
          "metadata": {}
        }
      ]
    },
    {
      "cell_type": "markdown",
      "source": [
        "Conclusion\n",
        "To sum up, here what we did along the project:\n",
        "\n",
        "We taken IMDB movie review from kaggle consist of 50K positive and negative reviews and fortunately it has balance dataset.\n",
        "We transform our label into 1 and 0 for positive and negative class respectively\n",
        "We create our own cleaning and preprocessing script\n",
        "Then we built vocabulary, encoding all reviews, add padding/trimming mechanism, making train test and validation set, create dataloader to make batches data\n",
        "We built our model architecture, defining hyperparameters, writing training and validation loop, and we plot our loss and accuracies.\n",
        "Then we do inference on test data, and surprisingly it still has a quite good performance with accuracy ~86%\n",
        "Finally, we see our model evaluation using various metrics and plotting confusion matrix which showing that our model could classify most data correctly and not tends to specific class as we have balanced dataset."
      ],
      "metadata": {
        "id": "rC7_G6oPRL-B"
      }
    },
    {
      "cell_type": "code",
      "source": [],
      "metadata": {
        "id": "ob1KfOceRIhS"
      },
      "execution_count": null,
      "outputs": []
    }
  ]
}